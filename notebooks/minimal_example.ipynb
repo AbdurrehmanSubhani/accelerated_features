{
  "cells": [
    {
      "cell_type": "markdown",
      "metadata": {
        "id": "2tDj94al5GAJ"
      },
      "source": [
        "#XFeat minimal inference example"
      ]
    },
    {
      "cell_type": "markdown",
      "metadata": {
        "id": "X8MPXBro5IFv"
      },
      "source": [
        "## Clone repository"
      ]
    },
    {
      "cell_type": "code",
      "execution_count": 2,
      "metadata": {
        "colab": {
          "base_uri": "https://localhost:8080/"
        },
        "id": "tVkH1ChzNcLW",
        "outputId": "da9a9474-76bd-4b66-8ecd-8ba0022f030e"
      },
      "outputs": [
        {
          "name": "stdout",
          "output_type": "stream",
          "text": [
            "zsh:cd:1: no such file or directory: /content\n",
            "[Errno 2] No such file or directory: '/content/accelerated_features'\n",
            "/Users/aarijimam/Work/Grayhat/accelerated_features/notebooks\n"
          ]
        }
      ],
      "source": [
        "!cd /content && git clone 'https://github.com/verlab/accelerated_features.git'\n",
        "%cd /content/accelerated_features"
      ]
    },
    {
      "cell_type": "markdown",
      "metadata": {
        "id": "32T-WzfU5NRH"
      },
      "source": [
        "## Test on simple input (sparse setting)"
      ]
    },
    {
      "cell_type": "code",
      "execution_count": 4,
      "metadata": {
        "colab": {
          "base_uri": "https://localhost:8080/"
        },
        "id": "o1TMnCEfNfvD",
        "outputId": "f59757f5-477a-4642-e955-7a5abefe3c21"
      },
      "outputs": [
        {
          "ename": "ModuleNotFoundError",
          "evalue": "No module named 'modules'",
          "output_type": "error",
          "traceback": [
            "\u001b[0;31m---------------------------------------------------------------------------\u001b[0m",
            "\u001b[0;31mModuleNotFoundError\u001b[0m                       Traceback (most recent call last)",
            "Cell \u001b[0;32mIn[4], line 6\u001b[0m\n\u001b[1;32m      3\u001b[0m \u001b[38;5;28;01mimport\u001b[39;00m \u001b[38;5;21;01mtorch\u001b[39;00m\n\u001b[1;32m      4\u001b[0m \u001b[38;5;28;01mimport\u001b[39;00m \u001b[38;5;21;01mtqdm\u001b[39;00m\n\u001b[0;32m----> 6\u001b[0m \u001b[38;5;28;01mfrom\u001b[39;00m \u001b[38;5;21;01mmodules\u001b[39;00m\u001b[38;5;21;01m.\u001b[39;00m\u001b[38;5;21;01mxfeat\u001b[39;00m \u001b[38;5;28;01mimport\u001b[39;00m XFeat\n\u001b[1;32m      8\u001b[0m xfeat \u001b[38;5;241m=\u001b[39m XFeat()\n\u001b[1;32m     10\u001b[0m \u001b[38;5;66;03m#Random input\u001b[39;00m\n",
            "\u001b[0;31mModuleNotFoundError\u001b[0m: No module named 'modules'"
          ]
        }
      ],
      "source": [
        "import numpy as np\n",
        "import os\n",
        "import torch\n",
        "import tqdm\n",
        "\n",
        "from modules.xfeat import XFeat\n",
        "\n",
        "xfeat = XFeat()\n",
        "\n",
        "#Random input\n",
        "x = torch.randn(1,3,480,640)\n",
        "\n",
        "#Simple inference with batch = 1\n",
        "output = xfeat.detectAndCompute(x, top_k = 4096)[0]\n",
        "print(\"----------------\")\n",
        "print(\"keypoints: \", output['keypoints'].shape)\n",
        "print(\"descriptors: \", output['descriptors'].shape)\n",
        "print(\"scores: \", output['scores'].shape)\n",
        "print(\"----------------\\n\")"
      ]
    },
    {
      "cell_type": "markdown",
      "metadata": {
        "id": "8b9C09ya5UwL"
      },
      "source": [
        "## Stress test to check FPS on VGA (sparse setting)"
      ]
    },
    {
      "cell_type": "code",
      "execution_count": 7,
      "metadata": {
        "colab": {
          "base_uri": "https://localhost:8080/"
        },
        "id": "Zsjz-QT95ZrM",
        "outputId": "2df6f545-419f-4cc3-ad8b-bf5e12741dba"
      },
      "outputs": [
        {
          "name": "stderr",
          "output_type": "stream",
          "text": [
            "Stress test on VGA resolution: 100%|██████████| 100/100 [00:14<00:00,  6.74it/s]\n"
          ]
        }
      ],
      "source": [
        "x = torch.randn(1,3,480,640)\n",
        "# Stress test\n",
        "for i in tqdm.tqdm(range(100), desc=\"Stress test on VGA resolution\"):\n",
        "\toutput = xfeat.detectAndCompute(x, top_k = 4096)\n"
      ]
    },
    {
      "cell_type": "markdown",
      "metadata": {
        "id": "1jAl-ejS5du_"
      },
      "source": [
        "## Test with batched mode (sparse)"
      ]
    },
    {
      "cell_type": "code",
      "execution_count": 4,
      "metadata": {
        "colab": {
          "base_uri": "https://localhost:8080/"
        },
        "id": "lAarS8UH5gyg",
        "outputId": "883f13f8-3fac-48f2-c0a3-656a81b57f2c"
      },
      "outputs": [
        {
          "name": "stdout",
          "output_type": "stream",
          "text": [
            "# detected features on each batch item: [4096, 4096, 4096, 4096]\n"
          ]
        }
      ],
      "source": [
        "# Batched mode\n",
        "x = torch.randn(4,3,480,640)\n",
        "outputs = xfeat.detectAndCompute(x, top_k = 4096)\n",
        "print(\"# detected features on each batch item:\", [len(o['keypoints']) for o in outputs])"
      ]
    },
    {
      "cell_type": "markdown",
      "metadata": {
        "id": "H60iMAlh5nqP"
      },
      "source": [
        "## Matches two images with built-in MNN matcher (sparse mode)"
      ]
    },
    {
      "cell_type": "code",
      "execution_count": 5,
      "metadata": {
        "id": "6N-ZqoMZ5syf"
      },
      "outputs": [],
      "source": [
        "# Match two images with sparse features\n",
        "x1 = torch.randn(1,3,480,640)\n",
        "x2 = torch.randn(1,3,480,640)\n",
        "mkpts_0, mkpts_1 = xfeat.match_xfeat(x1, x2)"
      ]
    },
    {
      "cell_type": "markdown",
      "metadata": {
        "id": "MOV4vZDp5v9_"
      },
      "source": [
        "## Matches two images with semi-dense matching, and batched mode (batch size = 4) for demonstration purpose"
      ]
    },
    {
      "cell_type": "code",
      "execution_count": 6,
      "metadata": {
        "colab": {
          "base_uri": "https://localhost:8080/"
        },
        "id": "Axe0o6U85zGV",
        "outputId": "e1257959-24fc-4194-b2f1-ee06cf450b24"
      },
      "outputs": [
        {
          "name": "stdout",
          "output_type": "stream",
          "text": [
            "number of img pairs 4\n",
            "torch.Size([182, 4])\n"
          ]
        }
      ],
      "source": [
        "# Create 4 image pairs\n",
        "x1 = torch.randn(4,3,480,640)\n",
        "x2 = torch.randn(4,3,480,640)\n",
        "\n",
        "#Obtain matches for each batch item\n",
        "matches_list = xfeat.match_xfeat_star(x1, x2, top_k = 5000)\n",
        "print('number of img pairs', len(matches_list))\n",
        "print(matches_list[0].shape) # -> output is (x1,y1,x2,y2)"
      ]
    }
  ],
  "metadata": {
    "colab": {
      "provenance": []
    },
    "kernelspec": {
      "display_name": "Python 3",
      "name": "python3"
    },
    "language_info": {
      "codemirror_mode": {
        "name": "ipython",
        "version": 3
      },
      "file_extension": ".py",
      "mimetype": "text/x-python",
      "name": "python",
      "nbconvert_exporter": "python",
      "pygments_lexer": "ipython3",
      "version": "3.8.19"
    }
  },
  "nbformat": 4,
  "nbformat_minor": 0
}
